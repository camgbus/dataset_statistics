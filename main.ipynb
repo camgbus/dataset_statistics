{
 "cells": [
  {
   "cell_type": "code",
   "execution_count": 1,
   "metadata": {},
   "outputs": [],
   "source": [
    "import os\n",
    "import numpy as np\n",
    "import SimpleITK as sitk\n",
    "from ds_info.utils.io_utils import list_files\n",
    "from ds_info.feature_extraction.feature_combinations import some_features, props_mean_std, props_range\n",
    "from ds_info.visualization.plots import props_to_pandas\n"
   ]
  },
  {
   "cell_type": "code",
   "execution_count": 2,
   "metadata": {},
   "outputs": [
    {
     "name": "stdout",
     "output_type": "stream",
     "text": [
      "hippocampus_330.nii.gz\n",
      "hippocampus_327.nii.gz\n",
      "hippocampus_387.nii.gz\n",
      "           subject    resolution                  1_bbox  intensity_mean\n",
      "0  hippocampus_330  (33, 55, 35)  (4, 30, 4, 20, 49, 29)      469.920502\n",
      "1  hippocampus_327  (27, 54, 36)  (5, 27, 5, 16, 46, 29)   209496.593750\n",
      "2  hippocampus_387  (32, 51, 33)  (5, 25, 5, 18, 45, 26)      681.361389\n",
      "\n",
      "\n",
      "[ 4 25  4 16 45 26]\n",
      "\n",
      "\n",
      "[ 5 30  5 20 49 29]\n"
     ]
    }
   ],
   "source": [
    "\"\"\"\n",
    "# Prostate\n",
    "dataset_path = \"/home/cam/Desktop/Data/Decathlon/Task05_Prostate\"\n",
    "file_names = list_files(dataset_path)[:5]\n",
    "file_names = [\"prostate_{}.nii.gz\".format(ix) for ix in ['00', '01']]\n",
    "img_mode = 0\n",
    "\n",
    "\"\"\"\n",
    "\n",
    "# Hippocampus\n",
    "dataset_path = \"/home/cam/Desktop/Data/Decathlon/Task04_Hippocampus\"\n",
    "file_names = list_files(dataset_path)[:5]\n",
    "file_names = [\"hippocampus_{}.nii.gz\".format(ix) for ix in [330, 327, 387]]\n",
    "img_mode = None \n",
    "\n",
    "props = dict()\n",
    "for file_name in file_names:\n",
    "    print(file_name)\n",
    "    subject_name = file_name.split('.')[0]\n",
    "    props[subject_name] = some_features(dataset_path, file_name, img_mode=img_mode)\n",
    "\n",
    "df = props_to_pandas(props, columns=['resolution', '1_bbox', 'intensity_mean'])\n",
    "print(df)\n",
    "\n",
    "mins, maxs = props_range(props)\n",
    "\n",
    "print('\\n')\n",
    "\n",
    "print(mins['1_bbox'])\n",
    "\n",
    "print('\\n')\n",
    "\n",
    "print(maxs['1_bbox'])\n",
    "\n"
   ]
  }
 ],
 "metadata": {
  "interpreter": {
   "hash": "50dd0f6051140f58fe9e61e61e6a488912d76ab622423617283b0995dd9f9785"
  },
  "kernelspec": {
   "display_name": "Python 3.7.11 64-bit ('racoon': conda)",
   "language": "python",
   "name": "python3"
  },
  "language_info": {
   "codemirror_mode": {
    "name": "ipython",
    "version": 3
   },
   "file_extension": ".py",
   "mimetype": "text/x-python",
   "name": "python",
   "nbconvert_exporter": "python",
   "pygments_lexer": "ipython3",
   "version": "3.8.12"
  },
  "orig_nbformat": 4
 },
 "nbformat": 4,
 "nbformat_minor": 2
}
