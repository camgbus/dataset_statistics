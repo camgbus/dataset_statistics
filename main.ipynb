{
 "cells": [
  {
   "cell_type": "code",
   "execution_count": 1,
   "metadata": {},
   "outputs": [],
   "source": [
    "import os\n",
    "import numpy as np\n",
    "import SimpleITK as sitk\n",
    "from ds_info.utils.io_utils import list_files\n",
    "from ds_info.feature_extraction.feature_combinations import some_features\n",
    "from ds_info.visualization.plots import props_to_pandas\n"
   ]
  },
  {
   "cell_type": "code",
   "execution_count": 2,
   "metadata": {},
   "outputs": [
    {
     "name": "stdout",
     "output_type": "stream",
     "text": [
      "        subject  intensity_mean  intensity_median\n",
      "0   prostate_32      306.502167             249.0\n",
      "1   prostate_37      349.704193             291.0\n",
      "2   prostate_02      438.518799             401.0\n",
      "3   prostate_01      376.253754             312.0\n",
      "4   prostate_18      390.740051             366.0\n",
      "5   prostate_29      357.909698             320.0\n",
      "6   prostate_14      372.171997             268.0\n",
      "7   prostate_38      290.870331             245.0\n",
      "8   prostate_24      318.318634             251.0\n",
      "9   prostate_43      339.393280             239.0\n",
      "10  prostate_31      277.245422             191.0\n",
      "11  prostate_28      246.284485             195.0\n",
      "12  prostate_16      321.365936             285.0\n",
      "13  prostate_04      370.588257             341.0\n",
      "14  prostate_47      284.192261             210.0\n",
      "15  prostate_17      209.160828             133.0\n",
      "16  prostate_21      206.247925             128.0\n",
      "17  prostate_00      285.858490             223.0\n",
      "18  prostate_34      219.539917             147.0\n",
      "19  prostate_44      237.012100             142.0\n",
      "20  prostate_41      253.879913             185.0\n",
      "21  prostate_25      432.461060             360.0\n",
      "22  prostate_20      313.542236             247.0\n",
      "23  prostate_13      307.596558             239.0\n",
      "24  prostate_42      249.541367             186.0\n",
      "25  prostate_06      231.666183             163.0\n",
      "26  prostate_46      283.148010             208.0\n",
      "27  prostate_40      285.320374             184.0\n",
      "28  prostate_39      350.051178             340.0\n",
      "29  prostate_35      449.222198             375.0\n",
      "30  prostate_10      267.356445             183.0\n",
      "31  prostate_07      283.202209             198.0\n"
     ]
    }
   ],
   "source": [
    "\n",
    "dataset_path = \"/home/cam/Desktop/Data/Decathlon/Task05_Prostate\"\n",
    "file_names = list_files(dataset_path)\n",
    "#file_names = [\"prostate_00.nii.gz\"]\n",
    "img_mode = 0\n",
    "\n",
    "props = dict()\n",
    "\n",
    "for file_name in file_names:\n",
    "    subject_name = file_name.split('.')[0]\n",
    "    props[subject_name] = some_features(dataset_path, file_name, img_mode=img_mode)\n",
    "\n",
    "df = props_to_pandas(props, columns=['intensity_mean', 'intensity_median'])\n",
    "print(df)\n",
    "\n",
    "\n"
   ]
  }
 ],
 "metadata": {
  "interpreter": {
   "hash": "50dd0f6051140f58fe9e61e61e6a488912d76ab622423617283b0995dd9f9785"
  },
  "kernelspec": {
   "display_name": "Python 3.7.11 64-bit ('racoon': conda)",
   "language": "python",
   "name": "python3"
  },
  "language_info": {
   "codemirror_mode": {
    "name": "ipython",
    "version": 3
   },
   "file_extension": ".py",
   "mimetype": "text/x-python",
   "name": "python",
   "nbconvert_exporter": "python",
   "pygments_lexer": "ipython3",
   "version": "3.8.12"
  },
  "orig_nbformat": 4
 },
 "nbformat": 4,
 "nbformat_minor": 2
}
